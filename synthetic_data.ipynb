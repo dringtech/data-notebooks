{
  "nbformat": 4,
  "nbformat_minor": 0,
  "metadata": {
    "colab": {
      "name": "synthetic-data.ipynb",
      "version": "0.3.2",
      "provenance": [],
      "collapsed_sections": [],
      "include_colab_link": true
    },
    "kernelspec": {
      "name": "python3",
      "display_name": "Python 3"
    }
  },
  "cells": [
    {
      "cell_type": "markdown",
      "metadata": {
        "id": "view-in-github",
        "colab_type": "text"
      },
      "source": [
        "<a href=\"https://colab.research.google.com/github/dringtech/data-notebooks/blob/master/synthetic_data.ipynb\" target=\"_parent\"><img src=\"https://colab.research.google.com/assets/colab-badge.svg\" alt=\"Open In Colab\"/></a>"
      ]
    },
    {
      "metadata": {
        "id": "Iu7D9VZdcQE8",
        "colab_type": "code",
        "colab": {}
      },
      "cell_type": "code",
      "source": [
        "lsoa_lookup = 'http://imd-by-postcode.opendatacommunities.org/'"
      ],
      "execution_count": 0,
      "outputs": []
    },
    {
      "metadata": {
        "id": "6VEdqg7ch4OP",
        "colab_type": "code",
        "colab": {}
      },
      "cell_type": "code",
      "source": [
        "import pandas as pd"
      ],
      "execution_count": 0,
      "outputs": []
    },
    {
      "metadata": {
        "id": "4jyKvxEFiP79",
        "colab_type": "code",
        "colab": {}
      },
      "cell_type": "code",
      "source": [
        "travel_data = pd.read_csv('https://raw.githubusercontent.com/dringtech/data-notebooks/master/rf03ew_v1.csv')"
      ],
      "execution_count": 0,
      "outputs": []
    },
    {
      "metadata": {
        "id": "-Gj3gjeQjKVQ",
        "colab_type": "code",
        "colab": {
          "base_uri": "https://localhost:8080/",
          "height": 34
        },
        "outputId": "f31c99aa-9fdb-415e-9320-c64517bffa66"
      },
      "cell_type": "code",
      "source": [
        "travel_data['Persons'].sum()"
      ],
      "execution_count": 4,
      "outputs": [
        {
          "output_type": "execute_result",
          "data": {
            "text/plain": [
              "302467"
            ]
          },
          "metadata": {
            "tags": []
          },
          "execution_count": 4
        }
      ]
    },
    {
      "metadata": {
        "id": "uo46ky6GcWMi",
        "colab_type": "text"
      },
      "cell_type": "markdown",
      "source": [
        "1. Map LSOA to decile of IMD - swap out\n",
        "2. Replace hospital code with random number\n",
        "3. Normalise dates\n",
        "4. Remove large value outliers (distance from A&E, time in hospital)\n",
        "5. Scrub patient demographics - remove non-binary genders (1 or 2), \n"
      ]
    }
  ]
}